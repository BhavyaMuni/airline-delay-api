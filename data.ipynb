{
 "cells": [
  {
   "cell_type": "code",
   "execution_count": 1,
   "metadata": {},
   "outputs": [],
   "source": [
    "import pandas as pd"
   ]
  },
  {
   "cell_type": "code",
   "execution_count": 2,
   "metadata": {},
   "outputs": [],
   "source": [
    "df = pd.read_csv(\"./archive/DelayedFlights.csv\")"
   ]
  },
  {
   "cell_type": "code",
   "execution_count": 3,
   "metadata": {},
   "outputs": [],
   "source": [
    "df = df.drop(df.columns[0], axis=1)\n",
    "df['CarrierDelay']=df['CarrierDelay'].fillna(0.0)\n",
    "df['WeatherDelay']=df['WeatherDelay'].fillna(0.0)\n",
    "df['NASDelay']=df['NASDelay'].fillna(0.0)\n",
    "df['SecurityDelay']=df['SecurityDelay'].fillna(0.0)\n",
    "df['LateAircraftDelay']=df['LateAircraftDelay'].fillna(0.0)\n",
    "\n",
    "\n",
    "df = df[df['ArrTime'].notnull()]\n",
    "df = df[df['TailNum'].notnull()]\n",
    "df = df[df['ActualElapsedTime'].notnull()]\n"
   ]
  },
  {
   "cell_type": "code",
   "execution_count": 4,
   "metadata": {},
   "outputs": [],
   "source": [
    "df.to_csv(\"./good_data.csv\")"
   ]
  }
 ],
 "metadata": {
  "kernelspec": {
   "display_name": "Python 3.9.13 ('airline_delay_app-W7gtXuyg')",
   "language": "python",
   "name": "python3"
  },
  "language_info": {
   "codemirror_mode": {
    "name": "ipython",
    "version": 3
   },
   "file_extension": ".py",
   "mimetype": "text/x-python",
   "name": "python",
   "nbconvert_exporter": "python",
   "pygments_lexer": "ipython3",
   "version": "3.9.13"
  },
  "orig_nbformat": 4,
  "vscode": {
   "interpreter": {
    "hash": "7ec71c6ca226f8c9d25f2d56a67773dbe467e43be76b001a4c9d7638c40190c7"
   }
  }
 },
 "nbformat": 4,
 "nbformat_minor": 2
}
